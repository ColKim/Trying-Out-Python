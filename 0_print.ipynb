{
 "cells": [
  {
   "cell_type": "markdown",
   "metadata": {},
   "source": [
    "# Meet Python: Step 0\n",
    "Author: Colleen Kim\n",
    "Email: ColleenJhKim@gmail.com\n",
    "\n",
    "These notebooks are intended to give people with no experience with coding, a small preview of coding with Python and is not intended to be used as a full tutorial to Python."
   ]
  },
  {
   "cell_type": "markdown",
   "metadata": {},
   "source": [
    "## Print\n",
    "Python, like many other languages, is an interpreter based language and is not compiler based. This means that there is an interpreter that reads through the code in a file and translates it into machine code line by line, making debugging easier.\n",
    "\n",
    "Jupyter notebooks allows us to further break down a file into \"cells\" and we can run 1 cell at a time, or run all of them 1 by 1. To run a cell, we can hit the \"Run\" button at the top, or go to the \"Cell\" tab and hit \"Run Cell\". A shortcut is Shift-Enter.\n",
    "\n",
    "Try running the cell below:"
   ]
  },
  {
   "cell_type": "code",
   "execution_count": null,
   "metadata": {},
   "outputs": [],
   "source": [
    "print(\"Hello World\")"
   ]
  },
  {
   "cell_type": "markdown",
   "metadata": {},
   "source": [
    "In the cell we just ran, we called on a \"function\" called \"print\". Functions are like blocks of code that can be called on from inside and outside of the file. The reason why we use functions, is because we can call them over and over, reusing the same code. Functions also help to keep code clean and organized.\n",
    "\n",
    "Now let's look at the anatomy of a function. First, the name of the function we called is \"print\". The print functions takes in 1 argument, which in this case is what we want to be printed to the console, \"Goodbye World\". Arguments for any and all functions are passed by encasing them in parenthesis. In python, we don't always have to pass in an argument to the print function. We could just called print and it would pass with no error:"
   ]
  },
  {
   "cell_type": "code",
   "execution_count": null,
   "metadata": {},
   "outputs": [],
   "source": [
    "print()"
   ]
  },
  {
   "cell_type": "markdown",
   "metadata": {},
   "source": [
    "In fact we could pass multiple arguments to the print function. All we need to do is use a comma to separate them:"
   ]
  },
  {
   "cell_type": "code",
   "execution_count": null,
   "metadata": {},
   "outputs": [],
   "source": [
    "print(\"hello\", \"world\")\n",
    "# remove the comma and see what happens"
   ]
  },
  {
   "cell_type": "markdown",
   "metadata": {},
   "source": [
    "But what would happen if we didn't use double apostrophes to encase our arguments?"
   ]
  },
  {
   "cell_type": "code",
   "execution_count": null,
   "metadata": {},
   "outputs": [],
   "source": [
    "print(hello world)"
   ]
  },
  {
   "cell_type": "markdown",
   "metadata": {},
   "source": [
    "Running the cell above, we should get an error. And this is because without the double apostrophes, the interpreter sees the words \"hello\" and \"world\" as variables. (We will come back to print(hello world), just going on a small detour.)\n",
    "\n",
    "Variables in computer science are like variables in math. We can assign a value to a letter like \"x = 2\", but we can change these values throughout the code. In Python, there are different types of values as well. There are integers (1, 2, 3), floats (1.1, 2.7, 3.2), boolean (True or False), strings (\"hello\", \"world\"), and more.\n",
    "\n",
    "Below are different assignments we can make:"
   ]
  },
  {
   "cell_type": "code",
   "execution_count": null,
   "metadata": {},
   "outputs": [],
   "source": [
    "x = 1                # Integer\n",
    "y = 1.1              # Float\n",
    "z = \"Hello World\"    # String"
   ]
  },
  {
   "cell_type": "markdown",
   "metadata": {},
   "source": [
    "We can also use single apostrophes instead of double apostrophes, but the type type of apostrophe has to encase the string of letters. Without the apostrophes, whatever letters are there will be seen as variables. And if the interpreter comes along a variable that is not defined, we will get an error.\n",
    "\n",
    "So going back to print(Hello World), when the interpreter sees \"Hello\" and \"World\", it thinks we are referring to 2 variables called \"Hello\" and \"World\". If we want to print a specific statement that says \"Hello World\", then we need to encase that statement in apostrophes.\n",
    "\n",
    "But we can also pass variables to print(), as long as they are inside the parenthesis."
   ]
  },
  {
   "cell_type": "code",
   "execution_count": null,
   "metadata": {},
   "outputs": [],
   "source": [
    "Hello = \"Hello World\"\n",
    "World = \"!\"\n",
    "print(Hello, World)"
   ]
  },
  {
   "cell_type": "markdown",
   "metadata": {},
   "source": [
    "Now when we try to print using the same line of code from before, we don't get an error since we've declared our variables \"Hello\" and \"World\".\n",
    "\n",
    "`Behind the scenes: When \"Hello\" is declared as a variable, a space in memory is saved with the address of that space saved to \"Hello\". The value \"Hello World\" is saved to the space in memory, so the variable \"Hello\" actually points to the address of the saved value. When we pass the variable \"Hello\" to print, we are passing a pointer to the value, not the actual value itself. And the print function follows that pointer to the address, and prints the value to the console.`"
   ]
  },
  {
   "cell_type": "markdown",
   "metadata": {},
   "source": [
    "Wrap up: functions, print(), variables, data types (integer, float, string, boolean)"
   ]
  },
  {
   "cell_type": "code",
   "execution_count": null,
   "metadata": {},
   "outputs": [],
   "source": [
    "# Feel free to mess around with variables and print\n",
    "print(\"Go!\")"
   ]
  }
 ],
 "metadata": {
  "kernelspec": {
   "display_name": "Python 3",
   "language": "python",
   "name": "python3"
  },
  "language_info": {
   "codemirror_mode": {
    "name": "ipython",
    "version": 3
   },
   "file_extension": ".py",
   "mimetype": "text/x-python",
   "name": "python",
   "nbconvert_exporter": "python",
   "pygments_lexer": "ipython3",
   "version": "3.6.5"
  }
 },
 "nbformat": 4,
 "nbformat_minor": 2
}
