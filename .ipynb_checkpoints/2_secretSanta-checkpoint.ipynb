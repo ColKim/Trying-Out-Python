{
 "cells": [
  {
   "cell_type": "markdown",
   "metadata": {},
   "source": [
    "# Meet Python: Step 2\n",
    "Author: Colleen Kim\n",
    "Email: ColleenJhKim@gmail.com"
   ]
  },
  {
   "cell_type": "markdown",
   "metadata": {},
   "source": [
    "## Secret Santa\n",
    "In this last notebook we will create a simple secret santa function that will match up people. To do so, we will first learn a little about arrays, implement a basic secret santa function, and then re-implement the function using a for loop."
   ]
  },
  {
   "cell_type": "markdown",
   "metadata": {},
   "source": [
    "## Arrays\n",
    "Another data type aside from integers, floats, strings, and booleans are Arrays. Arrays are used to store multiple values in 1 variable, and although they are used in many other languages, they are not always used in the same way. For now, we will just focus on arrays in Python, and we will not cover everything on arrays.\n",
    "\n",
    "Arrays in python can store integers, floats, strings, booleans, and a mix of any of these. And like any other variable we declare an array by first naming the variable, setting it to value using the equal sign, and then giving the values."
   ]
  },
  {
   "cell_type": "code",
   "execution_count": null,
   "metadata": {},
   "outputs": [],
   "source": [
    "exampleArray = [1, 2, \"three\", 4.0]\n",
    "print(exampleArray)"
   ]
  },
  {
   "cell_type": "markdown",
   "metadata": {},
   "source": [
    "For arrays, we group our variables by using brackets [] and separate values by commas.\n",
    "\n",
    "We can also select a specific value in the array by using the index number. In an array, the first index value starts with 0, and increments by 1. So the value 1 is in index 0, value 2 in index 1, and so on:"
   ]
  },
  {
   "cell_type": "code",
   "execution_count": null,
   "metadata": {},
   "outputs": [],
   "source": [
    "print(\"Index 0:\", exampleArray[0])\n",
    "print(\"Index 1:\", exampleArray[1])\n",
    "print(\"Index 2:\", exampleArray[2])\n",
    "print(\"Index 3:\", exampleArray[3])"
   ]
  },
  {
   "cell_type": "markdown",
   "metadata": {},
   "source": [
    "So now let's move on and make our Secret Santa function. It will be a very simple function, and secret santas will only be assigned by shifting down along the array.\n",
    "\n",
    "First our list of names:"
   ]
  },
  {
   "cell_type": "code",
   "execution_count": null,
   "metadata": {},
   "outputs": [],
   "source": [
    "listOfNames = [\"Snoopy\", \"Garfield\", \"Odie\", \"Pusheen\", \"Gudetama\"]"
   ]
  },
  {
   "cell_type": "markdown",
   "metadata": {},
   "source": [
    "Next our actual function:"
   ]
  },
  {
   "cell_type": "code",
   "execution_count": null,
   "metadata": {},
   "outputs": [],
   "source": [
    "def secretSanta(names):\n",
    "    print(names[0], \"->\",names[1])\n",
    "    print(names[1], \"->\",names[2])\n",
    "    print(names[2], \"->\",names[3])\n",
    "    print(names[3], \"->\",names[4])\n",
    "    print(names[4], \"->\",names[0])\n",
    "    return"
   ]
  },
  {
   "cell_type": "markdown",
   "metadata": {},
   "source": [
    "Here, we manually assign whoever is in an index the name of the person in the next index. And because there is no one past the last person in the array, we assign the first person to the last."
   ]
  },
  {
   "cell_type": "code",
   "execution_count": null,
   "metadata": {},
   "outputs": [],
   "source": [
    "secretSanta(listOfNames)"
   ]
  },
  {
   "cell_type": "markdown",
   "metadata": {},
   "source": [
    "Now we have a secret santa function, that takes in an array of names and returns secret santa pairings. But if we have more than 5 names we would have to go in and change the code every time. And if we have a large number of people like 100, that means we have to manually type in each assignment 100 times!\n",
    "\n",
    "To avoid this, we can use what is called a \"for loop\". For loops are great for iterating over each value in an array 1 by 1. We start it off by declaring the loop using \"for\", and then create a variable that will be used to iterate over an array. In the example below, we have a variable \"name\" that will be assigned to each value in the array listOfNames.\n",
    "\n",
    "In the first iteration name is assigned to the first value, \"Snoopy\". This value is then printed, and the first iteration is finished. The interpreter loops back and the next value \"Garfield\" is assigned to the variable name, and is printed. This continues until the end of the array is reached, and the loop ends."
   ]
  },
  {
   "cell_type": "code",
   "execution_count": null,
   "metadata": {},
   "outputs": [],
   "source": [
    "for name in listOfNames:\n",
    "    print(name)"
   ]
  },
  {
   "cell_type": "markdown",
   "metadata": {},
   "source": [
    "But using this method, we cannot get the next name in the next index until we are done with the current index. So instead we can assign the variable \"name\" to a number, which we then use to access the specific value by using the index number. We can do this by using the function range(x), which creates a sequence of numbers starting from 0 and incrementing by 1 until the given argument x."
   ]
  },
  {
   "cell_type": "code",
   "execution_count": null,
   "metadata": {},
   "outputs": [],
   "source": [
    "for name in range(5): # Goes through 0, 1, 2, 3, 4 which can be seen in output\n",
    "    print(name)\n",
    "    print(listOfNames[name])"
   ]
  },
  {
   "cell_type": "markdown",
   "metadata": {},
   "source": [
    "And since we want our function to handle an array with any number of names, we can use the len(array) function which returns the length of a given array."
   ]
  },
  {
   "cell_type": "code",
   "execution_count": null,
   "metadata": {},
   "outputs": [],
   "source": [
    "print(len(listOfNames))\n",
    "\n",
    "for name in range(len(listOfNames)): # Goes through 0, 1, 2, 3, 4 which can be seen in output\n",
    "    print(name)\n",
    "    print(listOfNames[name])"
   ]
  },
  {
   "cell_type": "markdown",
   "metadata": {},
   "source": [
    "But now we have a problem if we try to implement this:"
   ]
  },
  {
   "cell_type": "code",
   "execution_count": null,
   "metadata": {},
   "outputs": [],
   "source": [
    "def secretSanta(names):\n",
    "    for i in range(len(names)):\n",
    "        print(names[i], \"->\", names[i+1])\n",
    "    return\n",
    "\n",
    "secretSanta(listOfNames)"
   ]
  },
  {
   "cell_type": "markdown",
   "metadata": {},
   "source": [
    "Using our for loop like this, we assume there will always be a name value following each name value. But unless our array is a never-ending array, we won't always have a name value following each name value. The last value in an array doesn't have anything following it. When we manually assigned secret santas, we just assigned the first name value to the last name value. So the last name value, Gudetama, is a special case.\n",
    "\n",
    "For special cases there are many ways we can handle them, but in this case we can simply use modulo math and the len() function to handle the special case without affecting the other secret santa assignments.\n",
    "\n",
    "`x % y -> Return the remaining value from dividing x by y.`"
   ]
  },
  {
   "cell_type": "code",
   "execution_count": null,
   "metadata": {},
   "outputs": [],
   "source": [
    "print(\"Modulo Examples:\")\n",
    "print(6%4)    # 6 / 4 = 1 with 2 remaining\n",
    "print(3%4)    # 3 / 4 = 0 with 3 remaining"
   ]
  },
  {
   "cell_type": "markdown",
   "metadata": {},
   "source": [
    "So the last name value in this case is 4, and normally we would go to the next index 5, but since it doesn't exist we want to assign snoopy to gudetama. The length of listOfNames is 5 because there are 5 values, so if we use the length of the given array to mod the next index 5, we will get 0, which is the index of the first name value we want, Snoopy."
   ]
  },
  {
   "cell_type": "code",
   "execution_count": null,
   "metadata": {},
   "outputs": [],
   "source": [
    "def secretSanta(names):\n",
    "    for i in range(len(names)):\n",
    "        print(names[i], \"->\", names[(i+1)%len(names)])\n",
    "    return\n",
    "\n",
    "secretSanta(listOfNames)"
   ]
  },
  {
   "cell_type": "markdown",
   "metadata": {},
   "source": [
    "With this, we have a secret santa function that can take in an array with any number of names, but it is still a very simple way to make secret santa pairings. If we want to make it more random, we could import the random library and use the function rand, we could also make it so that the function doesn't print out the pairings, and instead emails each person who they are secret santa to. But that goes beyond the scope of this introduction."
   ]
  },
  {
   "cell_type": "code",
   "execution_count": null,
   "metadata": {},
   "outputs": [],
   "source": []
  }
 ],
 "metadata": {
  "kernelspec": {
   "display_name": "Python 3",
   "language": "python",
   "name": "python3"
  },
  "language_info": {
   "codemirror_mode": {
    "name": "ipython",
    "version": 3
   },
   "file_extension": ".py",
   "mimetype": "text/x-python",
   "name": "python",
   "nbconvert_exporter": "python",
   "pygments_lexer": "ipython3",
   "version": "3.6.5"
  }
 },
 "nbformat": 4,
 "nbformat_minor": 2
}
