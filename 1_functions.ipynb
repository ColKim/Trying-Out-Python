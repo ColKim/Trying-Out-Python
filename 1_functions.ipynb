{
 "cells": [
  {
   "cell_type": "markdown",
   "metadata": {},
   "source": [
    "# Meet Python: Step 1\n",
    "Author: Colleen Kim\n",
    "Email: ColleenJhKim@gmail.com"
   ]
  },
  {
   "cell_type": "markdown",
   "metadata": {},
   "source": [
    "## Functions\n",
    "In the prevoius notebook we learned about the print function. There are many built in functions, and more we can download as bundles called libraries. We can also make our own function, which we will be doing in this notebook.\n",
    "\n",
    "Like variables, functions need to be defined. Variables can be defined just as \"x = 1\", or we can declare the variable type like \"int x = 1\". With functions, we need to specifically declare the start of the function by using \"def\". Following \"def\" we provide a function name, parenthesis, and a colon at the end:"
   ]
  },
  {
   "cell_type": "code",
   "execution_count": null,
   "metadata": {},
   "outputs": [],
   "source": [
    "def example():         # def tells the interpreter we are going to make a function\n",
    "    print(\"Coffee\")    # example is the name of our function\n",
    "    return True        # () <- this is where we would declare any variables we need to be passed into this function\n",
    "                       # : end of the function declaration, now moving onto the function code in the next line"
   ]
  },
  {
   "cell_type": "markdown",
   "metadata": {},
   "source": [
    "As you can see above, our function example takes in no arguments, prints the word \"Coffee\" by calling another function, and then it returns. Return is used to mark the end of the function, and like the name suggests it returns a value, which in this case is the boolean True.\n",
    "\n",
    "Another important thing to note, are the indents. Python usually uses 4 spaces as indents, but you can also use tab, just be consistent and stick to one.\n",
    "\n",
    "Indenting in Python is used to group lines of code under another line. So in the above cell, the print line and return are indented under the example function, because they are part of the function. A break in the indentation means an end of the grouping."
   ]
  },
  {
   "cell_type": "code",
   "execution_count": null,
   "metadata": {},
   "outputs": [],
   "source": [
    "def orange():\n",
    "    print(\"Function Orange has been called\")\n",
    "    x = \"orange\"\n",
    "    return x\n",
    "    x = \"lemon\"\n",
    "result = orange()\n",
    "print(result)"
   ]
  },
  {
   "cell_type": "markdown",
   "metadata": {},
   "source": [
    "In the above cell, we have a function orange that prints a statement, creates a variable x and assigns it the value \"orange\", and returns the variable x.\n",
    "\n",
    "In the next line we reassign the variable the value \"lemon\", but because the return statement comes before this reassignment, the reassignment never happens. The interpreter immediately jumps out of its run over the function, and goes back to the line of code that called it.\n",
    "\n",
    "In this case, the line that called the function is the 5th line, result = orange(). orange() is the call to the function, and result is a variable we've defined. However instead of assigning a value like an integer or float, we've assigned whatever is returned from running the function orange.\n",
    "\n",
    "And because each cell in a jupyter notebook is part of the same file, we can call the function orange() again:"
   ]
  },
  {
   "cell_type": "code",
   "execution_count": null,
   "metadata": {},
   "outputs": [],
   "source": [
    "print(orange())"
   ]
  },
  {
   "cell_type": "markdown",
   "metadata": {},
   "source": [
    "But we can only call the function orange. We cannot access anything inside the function like the variable x. So if we try to print x, we will get an error:"
   ]
  },
  {
   "cell_type": "code",
   "execution_count": null,
   "metadata": {},
   "outputs": [],
   "source": [
    "print(x)"
   ]
  },
  {
   "cell_type": "markdown",
   "metadata": {},
   "source": [
    "This is because x is a \"local variable\". It is used only within the scope of the function, and as soon as the interpreter is done with its interpretation of the function orange(), the memory slot used to hold the variable x's value is released.\n",
    "\n",
    "On the other hand, a variable declared outside of a function is known as a \"global variable\". Global variables can be called anywhere inside the file, including from inside a function. See the cell below:"
   ]
  },
  {
   "cell_type": "code",
   "execution_count": null,
   "metadata": {},
   "outputs": [],
   "source": [
    "globalVar = \"Woof\"\n",
    "def cat():\n",
    "    localVar = \"Meow\"\n",
    "    print(\"Should print Woof:\", globalVar)\n",
    "    print(\"Should print Meow:\", localVar)\n",
    "    return\n",
    "\n",
    "cat()\n",
    "print(\"Now we are going to test our variables!\")\n",
    "print(\"Should print Woof:\", globalVar)\n",
    "print(\"Should throw an error:\", localVar)"
   ]
  },
  {
   "cell_type": "markdown",
   "metadata": {},
   "source": [
    "We can also reassign global variables to new values from inside a function, which can happen often and by mistake. So making unique variable names is very important, and in general it is a good practice to minimize how many global variables you have."
   ]
  },
  {
   "cell_type": "code",
   "execution_count": null,
   "metadata": {},
   "outputs": [],
   "source": []
  }
 ],
 "metadata": {
  "kernelspec": {
   "display_name": "Python 3",
   "language": "python",
   "name": "python3"
  },
  "language_info": {
   "codemirror_mode": {
    "name": "ipython",
    "version": 3
   },
   "file_extension": ".py",
   "mimetype": "text/x-python",
   "name": "python",
   "nbconvert_exporter": "python",
   "pygments_lexer": "ipython3",
   "version": "3.6.5"
  }
 },
 "nbformat": 4,
 "nbformat_minor": 2
}
